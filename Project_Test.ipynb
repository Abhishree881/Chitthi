{
  "cells": [
    {
      "cell_type": "markdown",
      "metadata": {
        "colab_type": "text",
        "id": "view-in-github"
      },
      "source": [
        "<a href=\"https://colab.research.google.com/github/aliasad20/Chitthi/blob/main/Project_Test.ipynb\" target=\"_parent\"><img src=\"https://colab.research.google.com/assets/colab-badge.svg\" alt=\"Open In Colab\"/></a>"
      ]
    },
    {
      "cell_type": "code",
      "execution_count": 1,
      "metadata": {
        "colab": {
          "base_uri": "https://localhost:8080/"
        },
        "id": "usE1B6pdQPl3",
        "outputId": "ed061182-c839-4f9f-b1ea-01a8f800108d"
      },
      "outputs": [
        {
          "name": "stderr",
          "output_type": "stream",
          "text": [
            "[nltk_data] Downloading package punkt to C:\\Users\\Anmol\n",
            "[nltk_data]     Srivastava\\AppData\\Roaming\\nltk_data...\n",
            "[nltk_data]   Package punkt is already up-to-date!\n"
          ]
        },
        {
          "data": {
            "text/plain": [
              "True"
            ]
          },
          "execution_count": 1,
          "metadata": {},
          "output_type": "execute_result"
        }
      ],
      "source": [
        "import nltk\n",
        "nltk.download('punkt')"
      ]
    },
    {
      "cell_type": "code",
      "execution_count": 2,
      "metadata": {
        "id": "945fu9lvQT3A"
      },
      "outputs": [],
      "source": [
        "import pandas as pd\n",
        "from nltk import word_tokenize\n",
        "from nltk.stem.snowball import SnowballStemmer\n",
        "import requests\n",
        "import firebase_admin\n",
        "from firebase_admin import credentials\n",
        "from firebase_admin import firestore"
      ]
    },
    {
      "cell_type": "code",
      "execution_count": 3,
      "metadata": {
        "colab": {
          "base_uri": "https://localhost:8080/"
        },
        "id": "58j6VQDZPCaD",
        "outputId": "c8ef375d-d2b2-4125-b9e9-be3d9d98041d"
      },
      "outputs": [
        {
          "name": "stdout",
          "output_type": "stream",
          "text": [
            "Collecting LeXmo\n",
            "  Downloading LeXmo-0.1.4-py3-none-any.whl (6.9 kB)\n",
            "Requirement already satisfied: pandas in c:\\users\\anmol srivastava\\appdata\\local\\programs\\python\\python311\\lib\\site-packages (from LeXmo) (1.5.3)\n",
            "Requirement already satisfied: nltk in c:\\users\\anmol srivastava\\appdata\\local\\programs\\python\\python311\\lib\\site-packages (from LeXmo) (3.8.1)\n",
            "Requirement already satisfied: requests in c:\\users\\anmol srivastava\\appdata\\local\\programs\\python\\python311\\lib\\site-packages (from LeXmo) (2.28.2)\n",
            "Requirement already satisfied: click in c:\\users\\anmol srivastava\\appdata\\local\\programs\\python\\python311\\lib\\site-packages (from nltk->LeXmo) (8.1.3)\n",
            "Requirement already satisfied: joblib in c:\\users\\anmol srivastava\\appdata\\local\\programs\\python\\python311\\lib\\site-packages (from nltk->LeXmo) (1.2.0)\n",
            "Requirement already satisfied: regex>=2021.8.3 in c:\\users\\anmol srivastava\\appdata\\local\\programs\\python\\python311\\lib\\site-packages (from nltk->LeXmo) (2023.3.23)\n",
            "Requirement already satisfied: tqdm in c:\\users\\anmol srivastava\\appdata\\local\\programs\\python\\python311\\lib\\site-packages (from nltk->LeXmo) (4.65.0)\n",
            "Requirement already satisfied: python-dateutil>=2.8.1 in c:\\users\\anmol srivastava\\appdata\\local\\programs\\python\\python311\\lib\\site-packages (from pandas->LeXmo) (2.8.2)\n",
            "Requirement already satisfied: pytz>=2020.1 in c:\\users\\anmol srivastava\\appdata\\local\\programs\\python\\python311\\lib\\site-packages (from pandas->LeXmo) (2022.7.1)\n",
            "Requirement already satisfied: numpy>=1.21.0 in c:\\users\\anmol srivastava\\appdata\\local\\programs\\python\\python311\\lib\\site-packages (from pandas->LeXmo) (1.24.2)\n",
            "Requirement already satisfied: charset-normalizer<4,>=2 in c:\\users\\anmol srivastava\\appdata\\local\\programs\\python\\python311\\lib\\site-packages (from requests->LeXmo) (3.1.0)\n",
            "Requirement already satisfied: idna<4,>=2.5 in c:\\users\\anmol srivastava\\appdata\\local\\programs\\python\\python311\\lib\\site-packages (from requests->LeXmo) (3.4)\n",
            "Requirement already satisfied: urllib3<1.27,>=1.21.1 in c:\\users\\anmol srivastava\\appdata\\local\\programs\\python\\python311\\lib\\site-packages (from requests->LeXmo) (1.26.15)\n",
            "Requirement already satisfied: certifi>=2017.4.17 in c:\\users\\anmol srivastava\\appdata\\local\\programs\\python\\python311\\lib\\site-packages (from requests->LeXmo) (2022.12.7)\n",
            "Requirement already satisfied: six>=1.5 in c:\\users\\anmol srivastava\\appdata\\local\\programs\\python\\python311\\lib\\site-packages (from python-dateutil>=2.8.1->pandas->LeXmo) (1.16.0)\n",
            "Requirement already satisfied: colorama in c:\\users\\anmol srivastava\\appdata\\local\\programs\\python\\python311\\lib\\site-packages (from click->nltk->LeXmo) (0.4.6)\n",
            "Installing collected packages: LeXmo\n",
            "Successfully installed LeXmo-0.1.4\n"
          ]
        }
      ],
      "source": [
        "\n",
        "!pip install -U LeXmo"
      ]
    },
    {
      "cell_type": "code",
      "execution_count": 4,
      "metadata": {
        "id": "4x1gmCT7PFOR"
      },
      "outputs": [
        {
          "name": "stderr",
          "output_type": "stream",
          "text": [
            "[nltk_data] Downloading package punkt to C:\\Users\\Anmol\n",
            "[nltk_data]     Srivastava\\AppData\\Roaming\\nltk_data...\n",
            "[nltk_data]   Package punkt is already up-to-date!\n"
          ]
        }
      ],
      "source": [
        "from LeXmo import LeXmo"
      ]
    },
    {
      "cell_type": "code",
      "execution_count": 5,
      "metadata": {},
      "outputs": [],
      "source": [
        "# t= \"\"\"From the beginning, she had sat looking at him fixedly.\n",
        "#   As he now leaned back in his chair, and bent his deep-set eyes upon her in his turn,\n",
        "#   perhaps he might have seen one wavering moment in her, \n",
        "#   when she was impelled to throw herself upon his breast,\n",
        "#   and give him the pent-up confidences of her heart.\n",
        "#   But, to see it, he must have overleaped at a bound the artificial barriers he had for many years been erecting, \n",
        "#   between himself and all those subtle essences of humanity which will elude the utmost cunning of algebra\n",
        "#   until the last trumpet ever to be sounded shall blow even algebra to wreck.\n",
        "#   The barriers were too many and too high for such a leap. With his unbending,\n",
        "#   utilitarian, matter-of-fact face, he hardened her again;\n",
        "#   and the moment shot away into the plumbless depths of the past,\n",
        "#   to mingle with all the lost opportunities that are drowned there.\"\"\"\n",
        "# t=\"Yup bro and will have ice cream and special coffee. Hey. Yes we will surely meet and have fun together. Do you know I am going to visit you tomorrow. Hello. We will visit the park area and Taj Mahal positively and have a vivid view about the places. This will make us have fun and make the day enjoyful.\"\n",
        "# Charles Dickens, Hard Times"
      ]
    },
    {
      "cell_type": "code",
      "execution_count": 6,
      "metadata": {},
      "outputs": [],
      "source": [
        "cred = credentials.Certificate('servicekey.json')\n",
        "app = firebase_admin.initialize_app(cred)\n",
        "db = firestore.client()\n",
        "doc_ref = db.collection(u'chats')\n",
        "# .document(u'72bS8jJYa1Oci3xfYPnxdtCygjP2')\n",
        "# msg_set= set()\n",
        "msg = []\n",
        "doc = doc_ref.get()"
      ]
    },
    {
      "cell_type": "code",
      "execution_count": 7,
      "metadata": {
        "id": "ezCPGImCr8Ul"
      },
      "outputs": [],
      "source": [
        "\n",
        "type(doc)\n",
        "for i in doc:\n",
        "    if i.exists:\n",
        "        doc_data = i.to_dict()\n",
        "        # print(f'Document data: {doc_data}')\n",
        "        data = doc_data.values()\n",
        "        data=list(data)\n",
        "        # print(len(data[0]))\n",
        "        for j in data:\n",
        "            for k in j:\n",
        "                # print(k[\"text\"])\n",
        "                msg.append(k[\"text\"])\n",
        "    else:\n",
        "        print(u'No such document!')\n",
        "uni_msg = set(msg)\n",
        "msg_data =\"\"\n",
        "for i in uni_msg:\n",
        "    msg_data= msg_data+i+\". \"\n",
        "# print(uni_msg)\n",
        "# print(msg_data)"
      ]
    },
    {
      "cell_type": "markdown",
      "metadata": {
        "id": "4oTZBM1h7aV0"
      },
      "source": [
        "# New Section"
      ]
    },
    {
      "cell_type": "code",
      "execution_count": 8,
      "metadata": {
        "id": "lNBKFLHCDLtw"
      },
      "outputs": [],
      "source": [
        "emo=LeXmo.LeXmo(msg_data)"
      ]
    },
    {
      "cell_type": "code",
      "execution_count": 9,
      "metadata": {
        "colab": {
          "base_uri": "https://localhost:8080/"
        },
        "id": "btWc2zliWSza",
        "outputId": "16b08ad0-951f-443c-8c3c-22dbc1b87a1a"
      },
      "outputs": [
        {
          "name": "stdout",
          "output_type": "stream",
          "text": [
            "{'text': 'Yup bro and will have ice cream and special coffee. We will visit the park area and Taj Mahal positively and have a vivid view about the places. Hi. Do you know I am going to visit you tomorrow. This will make us have fun and make the day enjoyful. I am feeling very good today as it is very nice weather. Yes we will surely meet and have fun together. Hey. Hello. GM. ', 'anger': 0.0, 'anticipation': 0.07142857142857142, 'disgust': 0.0, 'fear': 0.0, 'joy': 0.08333333333333333, 'negative': 0.0, 'positive': 0.10714285714285714, 'sadness': 0.0, 'surprise': 0.023809523809523808, 'trust': 0.023809523809523808}\n"
          ]
        }
      ],
      "source": [
        "print(emo)"
      ]
    },
    {
      "cell_type": "code",
      "execution_count": 10,
      "metadata": {
        "colab": {
          "base_uri": "https://localhost:8080/",
          "height": 70
        },
        "id": "1C9UsjeixoX9",
        "outputId": "a1396837-fef5-4993-8eae-aa20c4dc7087"
      },
      "outputs": [
        {
          "data": {
            "text/plain": [
              "'Yup bro and will have ice cream and special coffee. We will visit the park area and Taj Mahal positively and have a vivid view about the places. Hi. Do you know I am going to visit you tomorrow. This will make us have fun and make the day enjoyful. I am feeling very good today as it is very nice weather. Yes we will surely meet and have fun together. Hey. Hello. GM. '"
            ]
          },
          "execution_count": 10,
          "metadata": {},
          "output_type": "execute_result"
        }
      ],
      "source": [
        "emo.pop('text', None)"
      ]
    },
    {
      "cell_type": "code",
      "execution_count": 11,
      "metadata": {
        "colab": {
          "base_uri": "https://localhost:8080/"
        },
        "id": "ooMbjwYozgyp",
        "outputId": "5f2f6748-0496-4532-d24b-afdfa9bbe43a"
      },
      "outputs": [
        {
          "name": "stdout",
          "output_type": "stream",
          "text": [
            "{'anger': 0.0, 'anticipation': 0.07142857142857142, 'disgust': 0.0, 'fear': 0.0, 'joy': 0.08333333333333333, 'negative': 0.0, 'positive': 0.10714285714285714, 'sadness': 0.0, 'surprise': 0.023809523809523808, 'trust': 0.023809523809523808}\n"
          ]
        }
      ],
      "source": [
        "print(emo)"
      ]
    },
    {
      "cell_type": "code",
      "execution_count": 12,
      "metadata": {
        "id": "cPCNVi-Ts56_"
      },
      "outputs": [],
      "source": [
        "# type(emo)"
      ]
    },
    {
      "cell_type": "code",
      "execution_count": 13,
      "metadata": {
        "colab": {
          "base_uri": "https://localhost:8080/",
          "height": 423
        },
        "id": "jCfxW9pEKlYC",
        "outputId": "ec022b39-b80d-41bc-d6b4-5fd485b96f2d"
      },
      "outputs": [
        {
          "name": "stdout",
          "output_type": "stream",
          "text": [
            "{'anticipation': 0.07142857142857142, 'joy': 0.08333333333333333, 'positive': 0.10714285714285714, 'surprise': 0.023809523809523808, 'trust': 0.023809523809523808}\n"
          ]
        },
        {
          "data": {
            "image/png": "[encoded data removed]",
            "text/plain": [
              "<Figure size 640x480 with 1 Axes>"
            ]
          },
          "metadata": {},
          "output_type": "display_data"
        }
      ],
      "source": [
        "import matplotlib.pyplot as plt\n",
        "emo_dict = { k: v  for k, v in emo.items() if v >0.00}\n",
        "\n",
        "\n",
        "# Data to plot\n",
        "labels = []\n",
        "values = []\n",
        "\n",
        "for x, y in emo_dict.items():\n",
        "    labels.append(x)\n",
        "    values.append(y)\n",
        "print(emo_dict)\n",
        "\n",
        "# Plot\n",
        "plt.pie(values, labels=labels, autopct=lambda p: '{:.000f}%'.format(p ))\n",
        "\n",
        "# plt.axis('equal')\n",
        "plt.show()"
      ]
    },
    {
      "cell_type": "code",
      "execution_count": 14,
      "metadata": {
        "colab": {
          "base_uri": "https://localhost:8080/",
          "height": 430
        },
        "id": "RfzWqUD-LS7s",
        "outputId": "05a14d62-45e4-4324-fa41-0bb833a55af9"
      },
      "outputs": [
        {
          "data": {
            "image/png": "[encoded data removed]",
            "text/plain": [
              "<Figure size 640x480 with 1 Axes>"
            ]
          },
          "metadata": {},
          "output_type": "display_data"
        }
      ],
      "source": [
        "import matplotlib.pyplot as plt\n",
        "\n",
        "emo_dict = {k: v for k, v in emo.items() if v >0.0}\n",
        "\n",
        "plt.bar(range(len(emo_dict)), list(emo_dict.values()), align='center', color=\"deepskyblue\")\n",
        "plt.xticks(range(len(emo_dict)), list(emo_dict.keys()))\n",
        "\n",
        "\n",
        "plt.show()"
      ]
    }
  ],
  "metadata": {
    "colab": {
      "include_colab_link": true,
      "provenance": []
    },
    "kernelspec": {
      "display_name": "Python 3",
      "name": "python3"
    },
    "language_info": {
      "codemirror_mode": {
        "name": "ipython",
        "version": 3
      },
      "file_extension": ".py",
      "mimetype": "text/x-python",
      "name": "python",
      "nbconvert_exporter": "python",
      "pygments_lexer": "ipython3",
      "version": "3.11.2"
    }
  },
  "nbformat": 4,
  "nbformat_minor": 0
}
