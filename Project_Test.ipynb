{
  "nbformat": 4,
  "nbformat_minor": 0,
  "metadata": {
    "colab": {
      "provenance": [],
      "include_colab_link": true
    },
    "kernelspec": {
      "name": "python3",
      "display_name": "Python 3"
    }
  },
  "cells": [
    {
      "cell_type": "markdown",
      "metadata": {
        "id": "view-in-github",
        "colab_type": "text"
      },
      "source": [
        "<a href=\"https://colab.research.google.com/github/aliasad20/Chitthi/blob/main/Project_Test.ipynb\" target=\"_parent\"><img src=\"https://colab.research.google.com/assets/colab-badge.svg\" alt=\"Open In Colab\"/></a>"
      ]
    },
    {
      "cell_type": "code",
      "metadata": {
        "id": "usE1B6pdQPl3",
        "colab": {
          "base_uri": "https://localhost:8080/"
        },
        "outputId": "ed061182-c839-4f9f-b1ea-01a8f800108d"
      },
      "source": [
        "import nltk\n",
        "nltk.download('punkt')"
      ],
      "execution_count": 6,
      "outputs": [
        {
          "output_type": "stream",
          "name": "stderr",
          "text": [
            "[nltk_data] Downloading package punkt to /root/nltk_data...\n",
            "[nltk_data]   Package punkt is already up-to-date!\n"
          ]
        },
        {
          "output_type": "execute_result",
          "data": {
            "text/plain": [
              "True"
            ]
          },
          "metadata": {},
          "execution_count": 6
        }
      ]
    },
    {
      "cell_type": "code",
      "metadata": {
        "id": "945fu9lvQT3A"
      },
      "source": [
        "import pandas as pd\n",
        "from nltk import word_tokenize\n",
        "from nltk.stem.snowball import SnowballStemmer\n",
        "import requests\n",
        "import firebase_admin\n",
        "from firebase_admin import credentials\n",
        "from firebase_admin import firestore"
      ],
      "execution_count": 7,
      "outputs": []
    },
    {
      "cell_type": "code",
      "metadata": {
        "id": "58j6VQDZPCaD",
        "colab": {
          "base_uri": "https://localhost:8080/"
        },
        "outputId": "c8ef375d-d2b2-4125-b9e9-be3d9d98041d"
      },
      "source": [
        "\n",
        "!pip install -U LeXmo"
      ],
      "execution_count": 8,
      "outputs": [
        {
          "output_type": "stream",
          "name": "stdout",
          "text": [
            "Looking in indexes: https://pypi.org/simple, https://us-python.pkg.dev/colab-wheels/public/simple/\n",
            "Requirement already satisfied: LeXmo in /usr/local/lib/python3.9/dist-packages (0.1.4)\n",
            "Requirement already satisfied: requests in /usr/local/lib/python3.9/dist-packages (from LeXmo) (2.27.1)\n",
            "Requirement already satisfied: pandas in /usr/local/lib/python3.9/dist-packages (from LeXmo) (1.5.3)\n",
            "Requirement already satisfied: nltk in /usr/local/lib/python3.9/dist-packages (from LeXmo) (3.8.1)\n",
            "Requirement already satisfied: click in /usr/local/lib/python3.9/dist-packages (from nltk->LeXmo) (8.1.3)\n",
            "Requirement already satisfied: joblib in /usr/local/lib/python3.9/dist-packages (from nltk->LeXmo) (1.2.0)\n",
            "Requirement already satisfied: tqdm in /usr/local/lib/python3.9/dist-packages (from nltk->LeXmo) (4.65.0)\n",
            "Requirement already satisfied: regex>=2021.8.3 in /usr/local/lib/python3.9/dist-packages (from nltk->LeXmo) (2022.10.31)\n",
            "Requirement already satisfied: numpy>=1.20.3 in /usr/local/lib/python3.9/dist-packages (from pandas->LeXmo) (1.22.4)\n",
            "Requirement already satisfied: python-dateutil>=2.8.1 in /usr/local/lib/python3.9/dist-packages (from pandas->LeXmo) (2.8.2)\n",
            "Requirement already satisfied: pytz>=2020.1 in /usr/local/lib/python3.9/dist-packages (from pandas->LeXmo) (2022.7.1)\n",
            "Requirement already satisfied: urllib3<1.27,>=1.21.1 in /usr/local/lib/python3.9/dist-packages (from requests->LeXmo) (1.26.15)\n",
            "Requirement already satisfied: certifi>=2017.4.17 in /usr/local/lib/python3.9/dist-packages (from requests->LeXmo) (2022.12.7)\n",
            "Requirement already satisfied: charset-normalizer~=2.0.0 in /usr/local/lib/python3.9/dist-packages (from requests->LeXmo) (2.0.12)\n",
            "Requirement already satisfied: idna<4,>=2.5 in /usr/local/lib/python3.9/dist-packages (from requests->LeXmo) (3.4)\n",
            "Requirement already satisfied: six>=1.5 in /usr/local/lib/python3.9/dist-packages (from python-dateutil>=2.8.1->pandas->LeXmo) (1.16.0)\n"
          ]
        }
      ]
    },
    {
      "cell_type": "code",
      "metadata": {
        "id": "4x1gmCT7PFOR"
      },
      "source": [
        "from LeXmo import LeXmo"
      ],
      "execution_count": 9,
      "outputs": []
    },
    {
      "cell_type": "code",
      "metadata": {
        "id": "ezCPGImCr8Ul"
      },
      "source": [
        "# t= \"\"\"From the beginning, she had sat looking at him fixedly.\n",
        "#   As he now leaned back in his chair, and bent his deep-set eyes upon her in his turn,\n",
        "#   perhaps he might have seen one wavering moment in her, \n",
        "#   when she was impelled to throw herself upon his breast,\n",
        "#   and give him the pent-up confidences of her heart.\n",
        "#   But, to see it, he must have overleaped at a bound the artificial barriers he had for many years been erecting, \n",
        "#   between himself and all those subtle essences of humanity which will elude the utmost cunning of algebra\n",
        "#   until the last trumpet ever to be sounded shall blow even algebra to wreck.\n",
        "#   The barriers were too many and too high for such a leap. With his unbending,\n",
        "#   utilitarian, matter-of-fact face, he hardened her again;\n",
        "#   and the moment shot away into the plumbless depths of the past,\n",
        "#   to mingle with all the lost opportunities that are drowned there.\"\"\"\n",
        "# t=\"Yup bro and will have ice cream and special coffee. Hey. Yes we will surely meet and have fun together. Do you know I am going to visit you tomorrow. Hello. We will visit the park area and Taj Mahal positively and have a vivid view about the places. This will make us have fun and make the day enjoyful.\"\n",
        "# Charles Dickens, Hard Times\n",
        "cred = credentials.Certificate('servicekey.json')\n",
        "app = firebase_admin.initialize_app(cred)\n",
        "db = firestore.client()\n",
        "doc_ref = db.collection(u'chats')\n",
        "# .document(u'72bS8jJYa1Oci3xfYPnxdtCygjP2')\n",
        "# msg_set= set()\n",
        "msg=[]\n",
        "doc = doc_ref.get()\n",
        "type(doc)\n",
        "for i in doc:\n",
        "    if i.exists:\n",
        "        doc_data = i.to_dict()\n",
        "        # print(f'Document data: {doc_data}')\n",
        "        data = doc_data.values()\n",
        "        data=list(data)\n",
        "        # print(len(data[0]))\n",
        "        for j in data:\n",
        "            for k in j:\n",
        "                # print(k[\"text\"])\n",
        "                msg.append(k[\"text\"])\n",
        "    else:\n",
        "        print(u'No such document!')\n",
        "uni_msg = set(msg)\n",
        "msg_data =\"\"\n",
        "for i in uni_msg:\n",
        "    msg_data= msg_data+i+\". \"\n",
        "# print(uni_msg)\n",
        "# print(msg_data)"
      ],
      "execution_count": 10,
      "outputs": []
    },
    {
      "cell_type": "markdown",
      "source": [
        "# New Section"
      ],
      "metadata": {
        "id": "4oTZBM1h7aV0"
      }
    },
    {
      "cell_type": "code",
      "metadata": {
        "id": "lNBKFLHCDLtw"
      },
      "source": [
        "emo=LeXmo.LeXmo(msg_data)"
      ],
      "execution_count": 11,
      "outputs": []
    },
    {
      "cell_type": "code",
      "metadata": {
        "id": "btWc2zliWSza",
        "colab": {
          "base_uri": "https://localhost:8080/"
        },
        "outputId": "16b08ad0-951f-443c-8c3c-22dbc1b87a1a"
      },
      "source": [
        "print(emo)"
      ],
      "execution_count": 12,
      "outputs": [
        {
          "output_type": "stream",
          "name": "stdout",
          "text": [
            "{'text': 'This will make us have fun and make the day enjoyful. Hello. Yes we will surely meet and have fun together. Do you know I am going to visit you tomorrow. Yup bro and will have ice cream and special coffee. We will visit the park area and Taj Mahal positively and have a vivid view about the places. Hey. I am feeling very good today as it is very nice weather. ', 'anger': 0.0, 'anticipation': 0.075, 'disgust': 0.0, 'fear': 0.0, 'joy': 0.0875, 'negative': 0.0, 'positive': 0.1125, 'sadness': 0.0, 'surprise': 0.025, 'trust': 0.025}\n"
          ]
        }
      ]
    },
    {
      "cell_type": "code",
      "metadata": {
        "id": "1C9UsjeixoX9",
        "colab": {
          "base_uri": "https://localhost:8080/",
          "height": 70
        },
        "outputId": "a1396837-fef5-4993-8eae-aa20c4dc7087"
      },
      "source": [
        "emo.pop('text', None)"
      ],
      "execution_count": 13,
      "outputs": [
        {
          "output_type": "execute_result",
          "data": {
            "text/plain": [
              "'This will make us have fun and make the day enjoyful. Hello. Yes we will surely meet and have fun together. Do you know I am going to visit you tomorrow. Yup bro and will have ice cream and special coffee. We will visit the park area and Taj Mahal positively and have a vivid view about the places. Hey. I am feeling very good today as it is very nice weather. '"
            ],
            "application/vnd.google.colaboratory.intrinsic+json": {
              "type": "string"
            }
          },
          "metadata": {},
          "execution_count": 13
        }
      ]
    },
    {
      "cell_type": "code",
      "metadata": {
        "id": "ooMbjwYozgyp",
        "colab": {
          "base_uri": "https://localhost:8080/"
        },
        "outputId": "5f2f6748-0496-4532-d24b-afdfa9bbe43a"
      },
      "source": [
        "print(emo)"
      ],
      "execution_count": 14,
      "outputs": [
        {
          "output_type": "stream",
          "name": "stdout",
          "text": [
            "{'anger': 0.0, 'anticipation': 0.075, 'disgust': 0.0, 'fear': 0.0, 'joy': 0.0875, 'negative': 0.0, 'positive': 0.1125, 'sadness': 0.0, 'surprise': 0.025, 'trust': 0.025}\n"
          ]
        }
      ]
    },
    {
      "cell_type": "code",
      "metadata": {
        "id": "cPCNVi-Ts56_"
      },
      "source": [
        "# type(emo)"
      ],
      "execution_count": 15,
      "outputs": []
    },
    {
      "cell_type": "code",
      "source": [
        "import matplotlib.pyplot as plt\n",
        "emo_dict = { k: v  for k, v in emo.items() if v >0.00}\n",
        "\n",
        "\n",
        "# Data to plot\n",
        "labels = []\n",
        "values = []\n",
        "\n",
        "for x, y in emo_dict.items():\n",
        "    labels.append(x)\n",
        "    values.append(y)\n",
        "print(emo_dict)\n",
        "\n",
        "# Plot\n",
        "plt.pie(values, labels=labels, autopct=lambda p: '{:.000f}%'.format(p ))\n",
        "\n",
        "# plt.axis('equal')\n",
        "plt.show()"
      ],
      "metadata": {
        "id": "jCfxW9pEKlYC",
        "colab": {
          "base_uri": "https://localhost:8080/",
          "height": 423
        },
        "outputId": "ec022b39-b80d-41bc-d6b4-5fd485b96f2d"
      },
      "execution_count": 16,
      "outputs": [
        {
          "output_type": "stream",
          "name": "stdout",
          "text": [
            "{'anticipation': 0.075, 'joy': 0.0875, 'positive': 0.1125, 'surprise': 0.025, 'trust': 0.025}\n"
          ]
        },
        {
          "output_type": "display_data",
          "data": {
            "text/plain": [
              "<Figure size 640x480 with 1 Axes>"
            ],
            "image/png": "[encoded data removed]"
          },
          "metadata": {}
        }
      ]
    },
    {
      "cell_type": "code",
      "source": [
        "import matplotlib.pyplot as plt\n",
        "\n",
        "emo_dict = {k: v for k, v in emo.items() if v >0.0}\n",
        "\n",
        "plt.bar(range(len(emo_dict)), list(emo_dict.values()), align='center', color=\"deepskyblue\")\n",
        "plt.xticks(range(len(emo_dict)), list(emo_dict.keys()))\n",
        "\n",
        "\n",
        "plt.show()"
      ],
      "metadata": {
        "id": "RfzWqUD-LS7s",
        "colab": {
          "base_uri": "https://localhost:8080/",
          "height": 430
        },
        "outputId": "05a14d62-45e4-4324-fa41-0bb833a55af9"
      },
      "execution_count": 17,
      "outputs": [
        {
          "output_type": "display_data",
          "data": {
            "text/plain": [
              "<Figure size 640x480 with 1 Axes>"
            ],
            "image/png": "[encoded data removed]"
          },
          "metadata": {}
        }
      ]
    }
  ]
}