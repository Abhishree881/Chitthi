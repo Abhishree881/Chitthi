{
 "cells": [
  {
   "cell_type": "code",
   "execution_count": 1,
   "metadata": {},
   "outputs": [],
   "source": [
    "import firebase_admin\n",
    "from firebase_admin import credentials\n",
    "from firebase_admin import firestore"
   ]
  },
  {
   "attachments": {},
   "cell_type": "markdown",
   "metadata": {},
   "source": [
    "Application Default credentials"
   ]
  },
  {
   "cell_type": "code",
   "execution_count": 2,
   "metadata": {},
   "outputs": [],
   "source": [
    "cred = credentials.Certificate('servicekey.json')\n",
    "app = firebase_admin.initialize_app(cred)\n",
    "db = firestore.client()"
   ]
  },
  {
   "cell_type": "code",
   "execution_count": 23,
   "metadata": {},
   "outputs": [
    {
     "name": "stdout",
     "output_type": "stream",
     "text": [
      "Yup bro and will have ice cream and special coffee. Hey. Yes we will surely meet and have fun together. Do you know I am going to visit you tomorrow. Hello. We will visit the park area and Taj Mahal positively and have a vivid view about the places. This will make us have fun and make the day enjoyful. \n"
     ]
    }
   ],
   "source": [
    "doc_ref = db.collection(u'chats')\n",
    "# .document(u'72bS8jJYa1Oci3xfYPnxdtCygjP2')\n",
    "# msg_set= set()\n",
    "msg=[]\n",
    "doc = doc_ref.get()\n",
    "type(doc)\n",
    "for i in doc:\n",
    "    if i.exists:\n",
    "        doc_data = i.to_dict()\n",
    "        # print(f'Document data: {doc_data}')\n",
    "        data = doc_data.values()\n",
    "        data=list(data)\n",
    "        # print(len(data[0]))\n",
    "        for j in data:\n",
    "            for k in j:\n",
    "                # print(k[\"text\"])\n",
    "                msg.append(k[\"text\"])\n",
    "    else:\n",
    "        print(u'No such document!')\n",
    "uni_msg = set(msg)\n",
    "msg_data =\"\"\n",
    "for i in uni_msg:\n",
    "    msg_data= msg_data+i+\". \"\n",
    "# print(uni_msg)\n",
    "print(msg_data)"
   ]
  },
  {
   "cell_type": "code",
   "execution_count": null,
   "metadata": {},
   "outputs": [],
   "source": []
  }
 ],
 "metadata": {
  "kernelspec": {
   "display_name": "Python 3",
   "language": "python",
   "name": "python3"
  },
  "language_info": {
   "codemirror_mode": {
    "name": "ipython",
    "version": 3
   },
   "file_extension": ".py",
   "mimetype": "text/x-python",
   "name": "python",
   "nbconvert_exporter": "python",
   "pygments_lexer": "ipython3",
   "version": "3.11.2"
  },
  "orig_nbformat": 4
 },
 "nbformat": 4,
 "nbformat_minor": 2
}
